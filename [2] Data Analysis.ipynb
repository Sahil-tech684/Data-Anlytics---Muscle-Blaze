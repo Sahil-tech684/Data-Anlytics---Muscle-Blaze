{
 "cells": [
  {
   "cell_type": "markdown",
   "metadata": {},
   "source": [
    "Required Libraries"
   ]
  },
  {
   "cell_type": "code",
   "execution_count": 1,
   "metadata": {},
   "outputs": [],
   "source": [
    "import pandas as pd\n",
    "import seaborn as sns\n",
    "import plotly.express as px\n",
    "import matplotlib.pyplot as plt\n",
    "pd.set_option('display.max_columns', None)"
   ]
  },
  {
   "cell_type": "code",
   "execution_count": 2,
   "metadata": {},
   "outputs": [
    {
     "data": {
      "text/html": [
       "<div>\n",
       "<style scoped>\n",
       "    .dataframe tbody tr th:only-of-type {\n",
       "        vertical-align: middle;\n",
       "    }\n",
       "\n",
       "    .dataframe tbody tr th {\n",
       "        vertical-align: top;\n",
       "    }\n",
       "\n",
       "    .dataframe thead th {\n",
       "        text-align: right;\n",
       "    }\n",
       "</style>\n",
       "<table border=\"1\" class=\"dataframe\">\n",
       "  <thead>\n",
       "    <tr style=\"text-align: right;\">\n",
       "      <th></th>\n",
       "      <th>id</th>\n",
       "      <th>rank</th>\n",
       "      <th>name</th>\n",
       "      <th>weight</th>\n",
       "      <th>flavour</th>\n",
       "      <th>supplimentName</th>\n",
       "      <th>categoryName</th>\n",
       "      <th>secondaryCategory</th>\n",
       "      <th>productPageCreatedAt</th>\n",
       "      <th>brandName</th>\n",
       "      <th>mrp</th>\n",
       "      <th>offerPrice</th>\n",
       "      <th>mrpOfferPriceDiff</th>\n",
       "      <th>discount</th>\n",
       "      <th>comboCount</th>\n",
       "      <th>freebieCount</th>\n",
       "      <th>packaging</th>\n",
       "      <th>pricePerKg</th>\n",
       "      <th>proteinPercentPerServing</th>\n",
       "      <th>numOfServings</th>\n",
       "      <th>servingSize</th>\n",
       "      <th>isReviewEnabled</th>\n",
       "      <th>rating</th>\n",
       "      <th>totalRating</th>\n",
       "      <th>totalReviews</th>\n",
       "      <th>offerAllowed</th>\n",
       "      <th>isEmiAvailable</th>\n",
       "      <th>emiStartsWith</th>\n",
       "      <th>isBestPrice</th>\n",
       "      <th>lastUpdatedAt</th>\n",
       "      <th>reviews</th>\n",
       "    </tr>\n",
       "  </thead>\n",
       "  <tbody>\n",
       "    <tr>\n",
       "      <th>0</th>\n",
       "      <td>164773</td>\n",
       "      <td>1</td>\n",
       "      <td>MuscleBlaze Biozyme Performance Whey,  4.4 lb ...</td>\n",
       "      <td>2.0</td>\n",
       "      <td>rich chocolate</td>\n",
       "      <td>Biozyme Performance Whey</td>\n",
       "      <td>Whey Proteins</td>\n",
       "      <td>Proteins</td>\n",
       "      <td>2021-03-17T05:30:00</td>\n",
       "      <td>MuscleBlaze</td>\n",
       "      <td>5499</td>\n",
       "      <td>4299</td>\n",
       "      <td>1200</td>\n",
       "      <td>21</td>\n",
       "      <td>19</td>\n",
       "      <td>0</td>\n",
       "      <td>Jar</td>\n",
       "      <td>2149.5</td>\n",
       "      <td>69.0</td>\n",
       "      <td>56.0</td>\n",
       "      <td>36.0</td>\n",
       "      <td>1</td>\n",
       "      <td>4.487719</td>\n",
       "      <td>570</td>\n",
       "      <td>570</td>\n",
       "      <td>1</td>\n",
       "      <td>1</td>\n",
       "      <td>208.44</td>\n",
       "      <td>0</td>\n",
       "      <td>2023-11-20T05:30:00</td>\n",
       "      <td>[{'id': 399636, 'date': '2022-06-23T14:13:03',...</td>\n",
       "    </tr>\n",
       "    <tr>\n",
       "      <th>1</th>\n",
       "      <td>232197</td>\n",
       "      <td>2</td>\n",
       "      <td>MuscleBlaze Biozyme Performance Whey PR,  4.4 ...</td>\n",
       "      <td>2.0</td>\n",
       "      <td>chocolate fudge</td>\n",
       "      <td>Biozyme Performance Whey PR</td>\n",
       "      <td>Whey Proteins</td>\n",
       "      <td>Proteins</td>\n",
       "      <td>2023-08-09T05:30:00</td>\n",
       "      <td>MuscleBlaze</td>\n",
       "      <td>5999</td>\n",
       "      <td>4699</td>\n",
       "      <td>1300</td>\n",
       "      <td>21</td>\n",
       "      <td>3</td>\n",
       "      <td>0</td>\n",
       "      <td>Jar</td>\n",
       "      <td>2349.5</td>\n",
       "      <td>67.0</td>\n",
       "      <td>44.0</td>\n",
       "      <td>45.0</td>\n",
       "      <td>1</td>\n",
       "      <td>4.537313</td>\n",
       "      <td>67</td>\n",
       "      <td>67</td>\n",
       "      <td>1</td>\n",
       "      <td>1</td>\n",
       "      <td>221.20</td>\n",
       "      <td>0</td>\n",
       "      <td>2023-11-20T05:30:00</td>\n",
       "      <td>[{'id': 566519, 'date': '2023-10-22T23:32:30',...</td>\n",
       "    </tr>\n",
       "    <tr>\n",
       "      <th>2</th>\n",
       "      <td>167163</td>\n",
       "      <td>3</td>\n",
       "      <td>MuscleBlaze Biozyme Performance Whey,  4.4 lb ...</td>\n",
       "      <td>2.0</td>\n",
       "      <td>chocolate hazelnut</td>\n",
       "      <td>Biozyme Performance Whey</td>\n",
       "      <td>Whey Proteins</td>\n",
       "      <td>Proteins</td>\n",
       "      <td>2021-05-17T05:30:00</td>\n",
       "      <td>MuscleBlaze</td>\n",
       "      <td>5499</td>\n",
       "      <td>4299</td>\n",
       "      <td>1200</td>\n",
       "      <td>21</td>\n",
       "      <td>14</td>\n",
       "      <td>0</td>\n",
       "      <td>Jar</td>\n",
       "      <td>2149.5</td>\n",
       "      <td>69.0</td>\n",
       "      <td>56.0</td>\n",
       "      <td>36.0</td>\n",
       "      <td>1</td>\n",
       "      <td>4.492248</td>\n",
       "      <td>258</td>\n",
       "      <td>258</td>\n",
       "      <td>1</td>\n",
       "      <td>1</td>\n",
       "      <td>208.44</td>\n",
       "      <td>0</td>\n",
       "      <td>2023-11-20T05:30:00</td>\n",
       "      <td>[{'id': 284547, 'date': '2021-06-30T15:19:48',...</td>\n",
       "    </tr>\n",
       "    <tr>\n",
       "      <th>3</th>\n",
       "      <td>77192</td>\n",
       "      <td>4</td>\n",
       "      <td>MuscleBlaze 80% Raw Whey Protein Supplement Po...</td>\n",
       "      <td>1.0</td>\n",
       "      <td>unflavoured</td>\n",
       "      <td>80% Raw Whey Protein Supplement Powder</td>\n",
       "      <td>Raw Whey Proteins</td>\n",
       "      <td>Raw Whey</td>\n",
       "      <td>2017-03-21T05:30:00</td>\n",
       "      <td>MuscleBlaze</td>\n",
       "      <td>2299</td>\n",
       "      <td>1799</td>\n",
       "      <td>500</td>\n",
       "      <td>21</td>\n",
       "      <td>13</td>\n",
       "      <td>0</td>\n",
       "      <td>Packet</td>\n",
       "      <td>1799.0</td>\n",
       "      <td>80.0</td>\n",
       "      <td>33.0</td>\n",
       "      <td>30.0</td>\n",
       "      <td>1</td>\n",
       "      <td>4.390390</td>\n",
       "      <td>333</td>\n",
       "      <td>333</td>\n",
       "      <td>0</td>\n",
       "      <td>0</td>\n",
       "      <td>0.00</td>\n",
       "      <td>1</td>\n",
       "      <td>2023-11-20T05:30:00</td>\n",
       "      <td>[{'id': 417996, 'date': '2022-12-05T00:00:00',...</td>\n",
       "    </tr>\n",
       "    <tr>\n",
       "      <th>4</th>\n",
       "      <td>153561</td>\n",
       "      <td>5</td>\n",
       "      <td>MB Fuel One Whey Protein,  4.4 lb  Chocolate</td>\n",
       "      <td>2.0</td>\n",
       "      <td>chocolate</td>\n",
       "      <td>Whey Protein</td>\n",
       "      <td>Whey Proteins</td>\n",
       "      <td>Proteins</td>\n",
       "      <td>2020-10-14T05:30:00</td>\n",
       "      <td>MB Fuel One</td>\n",
       "      <td>5099</td>\n",
       "      <td>3699</td>\n",
       "      <td>1400</td>\n",
       "      <td>27</td>\n",
       "      <td>8</td>\n",
       "      <td>0</td>\n",
       "      <td>Jar</td>\n",
       "      <td>1849.5</td>\n",
       "      <td>62.0</td>\n",
       "      <td>51.0</td>\n",
       "      <td>39.0</td>\n",
       "      <td>1</td>\n",
       "      <td>4.460432</td>\n",
       "      <td>139</td>\n",
       "      <td>139</td>\n",
       "      <td>0</td>\n",
       "      <td>0</td>\n",
       "      <td>0.00</td>\n",
       "      <td>1</td>\n",
       "      <td>2023-11-20T05:30:00</td>\n",
       "      <td>[{'id': 261661, 'date': '2021-03-28T16:47:40',...</td>\n",
       "    </tr>\n",
       "  </tbody>\n",
       "</table>\n",
       "</div>"
      ],
      "text/plain": [
       "       id  rank                                               name  weight  \\\n",
       "0  164773     1  MuscleBlaze Biozyme Performance Whey,  4.4 lb ...     2.0   \n",
       "1  232197     2  MuscleBlaze Biozyme Performance Whey PR,  4.4 ...     2.0   \n",
       "2  167163     3  MuscleBlaze Biozyme Performance Whey,  4.4 lb ...     2.0   \n",
       "3   77192     4  MuscleBlaze 80% Raw Whey Protein Supplement Po...     1.0   \n",
       "4  153561     5       MB Fuel One Whey Protein,  4.4 lb  Chocolate     2.0   \n",
       "\n",
       "              flavour                          supplimentName  \\\n",
       "0      rich chocolate                Biozyme Performance Whey   \n",
       "1     chocolate fudge             Biozyme Performance Whey PR   \n",
       "2  chocolate hazelnut                Biozyme Performance Whey   \n",
       "3         unflavoured  80% Raw Whey Protein Supplement Powder   \n",
       "4           chocolate                            Whey Protein   \n",
       "\n",
       "        categoryName secondaryCategory productPageCreatedAt    brandName  \\\n",
       "0      Whey Proteins          Proteins  2021-03-17T05:30:00  MuscleBlaze   \n",
       "1      Whey Proteins          Proteins  2023-08-09T05:30:00  MuscleBlaze   \n",
       "2      Whey Proteins          Proteins  2021-05-17T05:30:00  MuscleBlaze   \n",
       "3  Raw Whey Proteins          Raw Whey  2017-03-21T05:30:00  MuscleBlaze   \n",
       "4      Whey Proteins          Proteins  2020-10-14T05:30:00  MB Fuel One   \n",
       "\n",
       "    mrp  offerPrice  mrpOfferPriceDiff  discount  comboCount  freebieCount  \\\n",
       "0  5499        4299               1200        21          19             0   \n",
       "1  5999        4699               1300        21           3             0   \n",
       "2  5499        4299               1200        21          14             0   \n",
       "3  2299        1799                500        21          13             0   \n",
       "4  5099        3699               1400        27           8             0   \n",
       "\n",
       "  packaging  pricePerKg  proteinPercentPerServing  numOfServings  servingSize  \\\n",
       "0       Jar      2149.5                      69.0           56.0         36.0   \n",
       "1       Jar      2349.5                      67.0           44.0         45.0   \n",
       "2       Jar      2149.5                      69.0           56.0         36.0   \n",
       "3    Packet      1799.0                      80.0           33.0         30.0   \n",
       "4       Jar      1849.5                      62.0           51.0         39.0   \n",
       "\n",
       "   isReviewEnabled    rating  totalRating  totalReviews  offerAllowed  \\\n",
       "0                1  4.487719          570           570             1   \n",
       "1                1  4.537313           67            67             1   \n",
       "2                1  4.492248          258           258             1   \n",
       "3                1  4.390390          333           333             0   \n",
       "4                1  4.460432          139           139             0   \n",
       "\n",
       "   isEmiAvailable  emiStartsWith  isBestPrice        lastUpdatedAt  \\\n",
       "0               1         208.44            0  2023-11-20T05:30:00   \n",
       "1               1         221.20            0  2023-11-20T05:30:00   \n",
       "2               1         208.44            0  2023-11-20T05:30:00   \n",
       "3               0           0.00            1  2023-11-20T05:30:00   \n",
       "4               0           0.00            1  2023-11-20T05:30:00   \n",
       "\n",
       "                                             reviews  \n",
       "0  [{'id': 399636, 'date': '2022-06-23T14:13:03',...  \n",
       "1  [{'id': 566519, 'date': '2023-10-22T23:32:30',...  \n",
       "2  [{'id': 284547, 'date': '2021-06-30T15:19:48',...  \n",
       "3  [{'id': 417996, 'date': '2022-12-05T00:00:00',...  \n",
       "4  [{'id': 261661, 'date': '2021-03-28T16:47:40',...  "
      ]
     },
     "execution_count": 2,
     "metadata": {},
     "output_type": "execute_result"
    }
   ],
   "source": [
    "data = pd.read_json('./../data/cleaned_data.json')\n",
    "data.head()"
   ]
  },
  {
   "cell_type": "code",
   "execution_count": 3,
   "metadata": {},
   "outputs": [],
   "source": [
    "data['productPageCreatedAt'] = pd.to_datetime(data.productPageCreatedAt)\n",
    "data['lastUpdatedAt'] = pd.to_datetime(data.lastUpdatedAt)"
   ]
  },
  {
   "cell_type": "code",
   "execution_count": 4,
   "metadata": {},
   "outputs": [
    {
     "name": "stdout",
     "output_type": "stream",
     "text": [
      "<class 'pandas.core.frame.DataFrame'>\n",
      "RangeIndex: 113 entries, 0 to 112\n",
      "Data columns (total 31 columns):\n",
      " #   Column                    Non-Null Count  Dtype         \n",
      "---  ------                    --------------  -----         \n",
      " 0   id                        113 non-null    int64         \n",
      " 1   rank                      113 non-null    int64         \n",
      " 2   name                      113 non-null    object        \n",
      " 3   weight                    113 non-null    float64       \n",
      " 4   flavour                   113 non-null    object        \n",
      " 5   supplimentName            113 non-null    object        \n",
      " 6   categoryName              113 non-null    object        \n",
      " 7   secondaryCategory         113 non-null    object        \n",
      " 8   productPageCreatedAt      113 non-null    datetime64[ns]\n",
      " 9   brandName                 113 non-null    object        \n",
      " 10  mrp                       113 non-null    int64         \n",
      " 11  offerPrice                113 non-null    int64         \n",
      " 12  mrpOfferPriceDiff         113 non-null    int64         \n",
      " 13  discount                  113 non-null    int64         \n",
      " 14  comboCount                113 non-null    int64         \n",
      " 15  freebieCount              113 non-null    int64         \n",
      " 16  packaging                 113 non-null    object        \n",
      " 17  pricePerKg                110 non-null    float64       \n",
      " 18  proteinPercentPerServing  109 non-null    float64       \n",
      " 19  numOfServings             98 non-null     float64       \n",
      " 20  servingSize               98 non-null     float64       \n",
      " 21  isReviewEnabled           113 non-null    int64         \n",
      " 22  rating                    113 non-null    float64       \n",
      " 23  totalRating               113 non-null    int64         \n",
      " 24  totalReviews              113 non-null    int64         \n",
      " 25  offerAllowed              113 non-null    int64         \n",
      " 26  isEmiAvailable            113 non-null    int64         \n",
      " 27  emiStartsWith             113 non-null    float64       \n",
      " 28  isBestPrice               113 non-null    int64         \n",
      " 29  lastUpdatedAt             113 non-null    datetime64[ns]\n",
      " 30  reviews                   113 non-null    object        \n",
      "dtypes: datetime64[ns](2), float64(7), int64(14), object(8)\n",
      "memory usage: 27.5+ KB\n"
     ]
    }
   ],
   "source": [
    "data.info()"
   ]
  },
  {
   "cell_type": "code",
   "execution_count": 5,
   "metadata": {},
   "outputs": [],
   "source": [
    "data['productLaunchYear'] = data.productPageCreatedAt.dt.year\n",
    "data['productLaunchMonth'] = data.productPageCreatedAt.dt.month_name()\n",
    "data['productAgeInMonths'] = data.apply(lambda row: (row.lastUpdatedAt.year - row.productPageCreatedAt.year) * 12 + row.lastUpdatedAt.month - row.productPageCreatedAt.month, axis= 1)"
   ]
  },
  {
   "cell_type": "code",
   "execution_count": 7,
   "metadata": {},
   "outputs": [
    {
     "data": {
      "application/vnd.plotly.v1+json": {
       "config": {
        "plotlyServerURL": "https://plot.ly"
       },
       "data": [
        {
         "branchvalues": "total",
         "customdata": [
          [
           7,
           1,
           3.5714285714000003
          ],
          [
           0,
           1,
           0
          ],
          [
           126,
           3,
           4.184476342366667
          ],
          [
           1,
           2,
           2.5
          ],
          [
           1,
           1,
           4
          ],
          [
           80,
           1,
           4.475
          ],
          [
           7,
           2,
           1.91666666665
          ],
          [
           63,
           3,
           1.6613756613666666
          ],
          [
           9,
           2,
           4.5
          ],
          [
           202,
           5,
           4.85294117648
          ],
          [
           273,
           1,
           4.7106227106
          ],
          [
           156,
           3,
           4.553477218233334
          ],
          [
           111,
           4,
           4.412289915975
          ],
          [
           69,
           3,
           4.357264957266667
          ],
          [
           70,
           2,
           4.435323383049999
          ],
          [
           258,
           1,
           4.492248062
          ],
          [
           335,
           1,
           4.5701492537
          ],
          [
           24,
           1,
           4.2083333333
          ],
          [
           90,
           1,
           4.7777777778
          ],
          [
           4,
           2,
           4.5
          ],
          [
           10,
           1,
           4.8
          ],
          [
           45,
           2,
           4.253787878800001
          ],
          [
           14,
           1,
           3.8571428571
          ],
          [
           1,
           1,
           5
          ],
          [
           75,
           1,
           4.3066666667
          ],
          [
           35,
           1,
           4.4857142857
          ],
          [
           9,
           2,
           4.75
          ],
          [
           160,
           2,
           4.25625
          ],
          [
           37,
           2,
           4.59627329195
          ],
          [
           2,
           1,
           4.5
          ],
          [
           5,
           1,
           4.6
          ],
          [
           175,
           1,
           4.5371428571
          ],
          [
           45,
           1,
           4.4888888889
          ],
          [
           11,
           1,
           4.6363636364000005
          ],
          [
           461,
           5,
           4.565909173420001
          ],
          [
           93,
           1,
           4.8279569892000005
          ],
          [
           110,
           1,
           4.2727272727
          ],
          [
           120,
           2,
           4.4034090909
          ],
          [
           4,
           1,
           3.75
          ],
          [
           10,
           1,
           4.1
          ],
          [
           1252,
           4,
           4.492347910475
          ],
          [
           93,
           4,
           4.286764705875
          ],
          [
           91,
           1,
           4.6373626374
          ],
          [
           32,
           3,
           4.7908496732
          ],
          [
           191,
           2,
           4.61776677665
          ],
          [
           61,
           3,
           4.2937728938
          ],
          [
           73,
           1,
           4.301369863
          ],
          [
           5,
           1,
           4.4
          ],
          [
           0,
           1,
           0
          ],
          [
           2,
           1,
           4.5
          ],
          [
           11,
           2,
           2.9285714285499997
          ],
          [
           80,
           2,
           4.79333333335
          ],
          [
           4,
           1,
           4.5
          ],
          [
           109,
           2,
           4.403708134
          ],
          [
           30,
           2,
           4.4659090909
          ],
          [
           145,
           2,
           4.2981373972
          ],
          [
           333,
           1,
           4.3903903904
          ],
          [
           89,
           1,
           4.0898876404
          ],
          [
           108,
           2,
           4.3583489681
          ],
          [
           93,
           2,
           4.2370192307500005
          ],
          [
           5,
           2,
           3.625
          ],
          [
           26,
           1,
           4.2692307692
          ],
          [
           1,
           1,
           4
          ],
          [
           28,
           1,
           4.6071428571
          ],
          [
           31,
           1,
           4
          ],
          [
           "(?)",
           11,
           3.359359163463637
          ],
          [
           "(?)",
           7,
           4.410846277671429
          ],
          [
           "(?)",
           14,
           4.53955429925
          ],
          [
           "(?)",
           15,
           4.2605552512800005
          ],
          [
           "(?)",
           6,
           4.512194192349999
          ],
          [
           "(?)",
           24,
           4.114811983016667
          ],
          [
           "(?)",
           25,
           4.27310066532
          ],
          [
           "(?)",
           11,
           3.9799032453909082
          ]
         ],
         "domain": {
          "x": [
           0,
           1
          ],
          "y": [
           0,
           1
          ]
         },
         "hovertemplate": "<b>No. Of Products:</b> %{customdata[1]:,}<br><b>No. Of Ratings:</b> %{customdata[0]:,}<br><b>Average Rating:</b> %{customdata[2]:.2f}",
         "ids": [
          "2022/berry blast",
          "2023/biscoffcookie",
          "2022/blue tokai coffee",
          "2016/cafe mocha",
          "2018/cafe mocha",
          "2020/cafe mocha",
          "2021/cafe mocha",
          "2016/chocolate",
          "2017/chocolate",
          "2018/chocolate",
          "2019/chocolate",
          "2020/chocolate",
          "2021/chocolate",
          "2022/chocolate",
          "2023/chocolate fudge",
          "2021/chocolate hazelnut",
          "2022/chocolate hazelnut",
          "2023/chocolate hazelnut",
          "2023/chocolate peanut butter",
          "2018/cookies and cream",
          "2019/cookies and cream",
          "2022/cookies and cream",
          "2023/cookies and cream",
          "2019/dark choco passion",
          "2021/french vanilla crème",
          "2023/french vanilla crème",
          "2019/gourmet vanilla",
          "2018/ice cream chocolate",
          "2019/ice cream chocolate",
          "2022/ice cream chocolate",
          "2022/kesar kulfi",
          "2021/kesar thandai",
          "2022/kesar thandai",
          "2020/magical mango",
          "2021/magical mango",
          "2022/magical mango",
          "2023/magical mango",
          "2021/mango",
          "2017/mocha cappuccino",
          "2018/mocha cappuccino",
          "2021/rich chocolate",
          "2022/rich chocolate",
          "2023/rich chocolate",
          "2016/rich milk chocolate",
          "2017/rich milk chocolate",
          "2019/rich milk chocolate",
          "2020/rich milk chocolate",
          "2023/rich milk chocolate",
          "2019/smooth chocolate",
          "2017/strawberry",
          "2021/strawberry",
          "2018/strawberry delight",
          "2019/strawberry shake",
          "2022/triple chocolate",
          "2022/tropical mango",
          "2016/unflavoured",
          "2017/unflavoured",
          "2018/unflavoured",
          "2019/unflavoured",
          "2021/unflavoured",
          "2022/unflavoured",
          "2023/unflavoured",
          "2016/vanilla",
          "2019/vanilla",
          "2022/vanilla",
          "2016",
          "2017",
          "2018",
          "2019",
          "2020",
          "2021",
          "2022",
          "2023"
         ],
         "labels": [
          "berry blast",
          "biscoffcookie",
          "blue tokai coffee",
          "cafe mocha",
          "cafe mocha",
          "cafe mocha",
          "cafe mocha",
          "chocolate",
          "chocolate",
          "chocolate",
          "chocolate",
          "chocolate",
          "chocolate",
          "chocolate",
          "chocolate fudge",
          "chocolate hazelnut",
          "chocolate hazelnut",
          "chocolate hazelnut",
          "chocolate peanut butter",
          "cookies and cream",
          "cookies and cream",
          "cookies and cream",
          "cookies and cream",
          "dark choco passion",
          "french vanilla crème",
          "french vanilla crème",
          "gourmet vanilla",
          "ice cream chocolate",
          "ice cream chocolate",
          "ice cream chocolate",
          "kesar kulfi",
          "kesar thandai",
          "kesar thandai",
          "magical mango",
          "magical mango",
          "magical mango",
          "magical mango",
          "mango",
          "mocha cappuccino",
          "mocha cappuccino",
          "rich chocolate",
          "rich chocolate",
          "rich chocolate",
          "rich milk chocolate",
          "rich milk chocolate",
          "rich milk chocolate",
          "rich milk chocolate",
          "rich milk chocolate",
          "smooth chocolate",
          "strawberry",
          "strawberry",
          "strawberry delight",
          "strawberry shake",
          "triple chocolate",
          "tropical mango",
          "unflavoured",
          "unflavoured",
          "unflavoured",
          "unflavoured",
          "unflavoured",
          "unflavoured",
          "unflavoured",
          "vanilla",
          "vanilla",
          "vanilla",
          "2016",
          "2017",
          "2018",
          "2019",
          "2020",
          "2021",
          "2022",
          "2023"
         ],
         "marker": {
          "coloraxis": "coloraxis",
          "colors": [
           3.5714285714000003,
           0,
           4.184476342366667,
           2.5,
           4,
           4.475,
           1.91666666665,
           1.6613756613666666,
           4.5,
           4.85294117648,
           4.7106227106,
           4.553477218233334,
           4.412289915975,
           4.357264957266667,
           4.435323383049999,
           4.492248062,
           4.5701492537,
           4.2083333333,
           4.7777777778,
           4.5,
           4.8,
           4.253787878800001,
           3.8571428571,
           5,
           4.3066666667,
           4.4857142857,
           4.75,
           4.25625,
           4.59627329195,
           4.5,
           4.6,
           4.5371428571,
           4.4888888889,
           4.6363636364000005,
           4.565909173420001,
           4.8279569892000005,
           4.2727272727,
           4.4034090909,
           3.75,
           4.1,
           4.492347910475,
           4.286764705875,
           4.6373626374,
           4.7908496732,
           4.61776677665,
           4.2937728938,
           4.301369863,
           4.4,
           0,
           4.5,
           2.9285714285499997,
           4.79333333335,
           4.5,
           4.403708134,
           4.4659090909,
           4.2981373972,
           4.3903903904,
           4.0898876404,
           4.3583489681,
           4.2370192307500005,
           3.625,
           4.2692307692,
           4,
           4.6071428571,
           4,
           3.359359163463637,
           4.410846277671429,
           4.53955429925,
           4.2605552512800005,
           4.512194192349999,
           4.114811983016667,
           4.27310066532,
           3.9799032453909082
          ]
         },
         "name": "",
         "parents": [
          "2022",
          "2023",
          "2022",
          "2016",
          "2018",
          "2020",
          "2021",
          "2016",
          "2017",
          "2018",
          "2019",
          "2020",
          "2021",
          "2022",
          "2023",
          "2021",
          "2022",
          "2023",
          "2023",
          "2018",
          "2019",
          "2022",
          "2023",
          "2019",
          "2021",
          "2023",
          "2019",
          "2018",
          "2019",
          "2022",
          "2022",
          "2021",
          "2022",
          "2020",
          "2021",
          "2022",
          "2023",
          "2021",
          "2017",
          "2018",
          "2021",
          "2022",
          "2023",
          "2016",
          "2017",
          "2019",
          "2020",
          "2023",
          "2019",
          "2017",
          "2021",
          "2018",
          "2019",
          "2022",
          "2022",
          "2016",
          "2017",
          "2018",
          "2019",
          "2021",
          "2022",
          "2023",
          "2016",
          "2019",
          "2022",
          "",
          "",
          "",
          "",
          "",
          "",
          "",
          ""
         ],
         "type": "sunburst",
         "values": [
          1,
          1,
          3,
          2,
          1,
          1,
          2,
          3,
          2,
          5,
          1,
          3,
          4,
          3,
          2,
          1,
          1,
          1,
          1,
          2,
          1,
          2,
          1,
          1,
          1,
          1,
          2,
          2,
          2,
          1,
          1,
          1,
          1,
          1,
          5,
          1,
          1,
          2,
          1,
          1,
          4,
          4,
          1,
          3,
          2,
          3,
          1,
          1,
          1,
          1,
          2,
          2,
          1,
          2,
          2,
          2,
          1,
          1,
          2,
          2,
          2,
          1,
          1,
          1,
          1,
          11,
          7,
          14,
          15,
          6,
          24,
          25,
          11
         ]
        }
       ],
       "layout": {
        "coloraxis": {
         "colorbar": {
          "title": {
           "text": "Average Rating"
          }
         },
         "colorscale": [
          [
           0,
           "rgb(237, 239, 93)"
          ],
          [
           0.16666666666666666,
           "rgb(169, 220, 103)"
          ],
          [
           0.3333333333333333,
           "rgb(110, 197, 116)"
          ],
          [
           0.5,
           "rgb(57, 171, 126)"
          ],
          [
           0.6666666666666666,
           "rgb(13, 143, 129)"
          ],
          [
           0.8333333333333334,
           "rgb(15, 114, 121)"
          ],
          [
           1,
           "rgb(36, 86, 104)"
          ]
         ]
        },
        "height": 600,
        "legend": {
         "tracegroupgap": 0
        },
        "margin": {
         "b": 0,
         "l": 0,
         "r": 0,
         "t": 50
        },
        "template": {
         "data": {
          "bar": [
           {
            "error_x": {
             "color": "#f2f5fa"
            },
            "error_y": {
             "color": "#f2f5fa"
            },
            "marker": {
             "line": {
              "color": "rgb(17,17,17)",
              "width": 0.5
             },
             "pattern": {
              "fillmode": "overlay",
              "size": 10,
              "solidity": 0.2
             }
            },
            "type": "bar"
           }
          ],
          "barpolar": [
           {
            "marker": {
             "line": {
              "color": "rgb(17,17,17)",
              "width": 0.5
             },
             "pattern": {
              "fillmode": "overlay",
              "size": 10,
              "solidity": 0.2
             }
            },
            "type": "barpolar"
           }
          ],
          "carpet": [
           {
            "aaxis": {
             "endlinecolor": "#A2B1C6",
             "gridcolor": "#506784",
             "linecolor": "#506784",
             "minorgridcolor": "#506784",
             "startlinecolor": "#A2B1C6"
            },
            "baxis": {
             "endlinecolor": "#A2B1C6",
             "gridcolor": "#506784",
             "linecolor": "#506784",
             "minorgridcolor": "#506784",
             "startlinecolor": "#A2B1C6"
            },
            "type": "carpet"
           }
          ],
          "choropleth": [
           {
            "colorbar": {
             "outlinewidth": 0,
             "ticks": ""
            },
            "type": "choropleth"
           }
          ],
          "contour": [
           {
            "colorbar": {
             "outlinewidth": 0,
             "ticks": ""
            },
            "colorscale": [
             [
              0,
              "#0d0887"
             ],
             [
              0.1111111111111111,
              "#46039f"
             ],
             [
              0.2222222222222222,
              "#7201a8"
             ],
             [
              0.3333333333333333,
              "#9c179e"
             ],
             [
              0.4444444444444444,
              "#bd3786"
             ],
             [
              0.5555555555555556,
              "#d8576b"
             ],
             [
              0.6666666666666666,
              "#ed7953"
             ],
             [
              0.7777777777777778,
              "#fb9f3a"
             ],
             [
              0.8888888888888888,
              "#fdca26"
             ],
             [
              1,
              "#f0f921"
             ]
            ],
            "type": "contour"
           }
          ],
          "contourcarpet": [
           {
            "colorbar": {
             "outlinewidth": 0,
             "ticks": ""
            },
            "type": "contourcarpet"
           }
          ],
          "heatmap": [
           {
            "colorbar": {
             "outlinewidth": 0,
             "ticks": ""
            },
            "colorscale": [
             [
              0,
              "#0d0887"
             ],
             [
              0.1111111111111111,
              "#46039f"
             ],
             [
              0.2222222222222222,
              "#7201a8"
             ],
             [
              0.3333333333333333,
              "#9c179e"
             ],
             [
              0.4444444444444444,
              "#bd3786"
             ],
             [
              0.5555555555555556,
              "#d8576b"
             ],
             [
              0.6666666666666666,
              "#ed7953"
             ],
             [
              0.7777777777777778,
              "#fb9f3a"
             ],
             [
              0.8888888888888888,
              "#fdca26"
             ],
             [
              1,
              "#f0f921"
             ]
            ],
            "type": "heatmap"
           }
          ],
          "heatmapgl": [
           {
            "colorbar": {
             "outlinewidth": 0,
             "ticks": ""
            },
            "colorscale": [
             [
              0,
              "#0d0887"
             ],
             [
              0.1111111111111111,
              "#46039f"
             ],
             [
              0.2222222222222222,
              "#7201a8"
             ],
             [
              0.3333333333333333,
              "#9c179e"
             ],
             [
              0.4444444444444444,
              "#bd3786"
             ],
             [
              0.5555555555555556,
              "#d8576b"
             ],
             [
              0.6666666666666666,
              "#ed7953"
             ],
             [
              0.7777777777777778,
              "#fb9f3a"
             ],
             [
              0.8888888888888888,
              "#fdca26"
             ],
             [
              1,
              "#f0f921"
             ]
            ],
            "type": "heatmapgl"
           }
          ],
          "histogram": [
           {
            "marker": {
             "pattern": {
              "fillmode": "overlay",
              "size": 10,
              "solidity": 0.2
             }
            },
            "type": "histogram"
           }
          ],
          "histogram2d": [
           {
            "colorbar": {
             "outlinewidth": 0,
             "ticks": ""
            },
            "colorscale": [
             [
              0,
              "#0d0887"
             ],
             [
              0.1111111111111111,
              "#46039f"
             ],
             [
              0.2222222222222222,
              "#7201a8"
             ],
             [
              0.3333333333333333,
              "#9c179e"
             ],
             [
              0.4444444444444444,
              "#bd3786"
             ],
             [
              0.5555555555555556,
              "#d8576b"
             ],
             [
              0.6666666666666666,
              "#ed7953"
             ],
             [
              0.7777777777777778,
              "#fb9f3a"
             ],
             [
              0.8888888888888888,
              "#fdca26"
             ],
             [
              1,
              "#f0f921"
             ]
            ],
            "type": "histogram2d"
           }
          ],
          "histogram2dcontour": [
           {
            "colorbar": {
             "outlinewidth": 0,
             "ticks": ""
            },
            "colorscale": [
             [
              0,
              "#0d0887"
             ],
             [
              0.1111111111111111,
              "#46039f"
             ],
             [
              0.2222222222222222,
              "#7201a8"
             ],
             [
              0.3333333333333333,
              "#9c179e"
             ],
             [
              0.4444444444444444,
              "#bd3786"
             ],
             [
              0.5555555555555556,
              "#d8576b"
             ],
             [
              0.6666666666666666,
              "#ed7953"
             ],
             [
              0.7777777777777778,
              "#fb9f3a"
             ],
             [
              0.8888888888888888,
              "#fdca26"
             ],
             [
              1,
              "#f0f921"
             ]
            ],
            "type": "histogram2dcontour"
           }
          ],
          "mesh3d": [
           {
            "colorbar": {
             "outlinewidth": 0,
             "ticks": ""
            },
            "type": "mesh3d"
           }
          ],
          "parcoords": [
           {
            "line": {
             "colorbar": {
              "outlinewidth": 0,
              "ticks": ""
             }
            },
            "type": "parcoords"
           }
          ],
          "pie": [
           {
            "automargin": true,
            "type": "pie"
           }
          ],
          "scatter": [
           {
            "marker": {
             "line": {
              "color": "#283442"
             }
            },
            "type": "scatter"
           }
          ],
          "scatter3d": [
           {
            "line": {
             "colorbar": {
              "outlinewidth": 0,
              "ticks": ""
             }
            },
            "marker": {
             "colorbar": {
              "outlinewidth": 0,
              "ticks": ""
             }
            },
            "type": "scatter3d"
           }
          ],
          "scattercarpet": [
           {
            "marker": {
             "colorbar": {
              "outlinewidth": 0,
              "ticks": ""
             }
            },
            "type": "scattercarpet"
           }
          ],
          "scattergeo": [
           {
            "marker": {
             "colorbar": {
              "outlinewidth": 0,
              "ticks": ""
             }
            },
            "type": "scattergeo"
           }
          ],
          "scattergl": [
           {
            "marker": {
             "line": {
              "color": "#283442"
             }
            },
            "type": "scattergl"
           }
          ],
          "scattermapbox": [
           {
            "marker": {
             "colorbar": {
              "outlinewidth": 0,
              "ticks": ""
             }
            },
            "type": "scattermapbox"
           }
          ],
          "scatterpolar": [
           {
            "marker": {
             "colorbar": {
              "outlinewidth": 0,
              "ticks": ""
             }
            },
            "type": "scatterpolar"
           }
          ],
          "scatterpolargl": [
           {
            "marker": {
             "colorbar": {
              "outlinewidth": 0,
              "ticks": ""
             }
            },
            "type": "scatterpolargl"
           }
          ],
          "scatterternary": [
           {
            "marker": {
             "colorbar": {
              "outlinewidth": 0,
              "ticks": ""
             }
            },
            "type": "scatterternary"
           }
          ],
          "surface": [
           {
            "colorbar": {
             "outlinewidth": 0,
             "ticks": ""
            },
            "colorscale": [
             [
              0,
              "#0d0887"
             ],
             [
              0.1111111111111111,
              "#46039f"
             ],
             [
              0.2222222222222222,
              "#7201a8"
             ],
             [
              0.3333333333333333,
              "#9c179e"
             ],
             [
              0.4444444444444444,
              "#bd3786"
             ],
             [
              0.5555555555555556,
              "#d8576b"
             ],
             [
              0.6666666666666666,
              "#ed7953"
             ],
             [
              0.7777777777777778,
              "#fb9f3a"
             ],
             [
              0.8888888888888888,
              "#fdca26"
             ],
             [
              1,
              "#f0f921"
             ]
            ],
            "type": "surface"
           }
          ],
          "table": [
           {
            "cells": {
             "fill": {
              "color": "#506784"
             },
             "line": {
              "color": "rgb(17,17,17)"
             }
            },
            "header": {
             "fill": {
              "color": "#2a3f5f"
             },
             "line": {
              "color": "rgb(17,17,17)"
             }
            },
            "type": "table"
           }
          ]
         },
         "layout": {
          "annotationdefaults": {
           "arrowcolor": "#f2f5fa",
           "arrowhead": 0,
           "arrowwidth": 1
          },
          "autotypenumbers": "strict",
          "coloraxis": {
           "colorbar": {
            "outlinewidth": 0,
            "ticks": ""
           }
          },
          "colorscale": {
           "diverging": [
            [
             0,
             "#8e0152"
            ],
            [
             0.1,
             "#c51b7d"
            ],
            [
             0.2,
             "#de77ae"
            ],
            [
             0.3,
             "#f1b6da"
            ],
            [
             0.4,
             "#fde0ef"
            ],
            [
             0.5,
             "#f7f7f7"
            ],
            [
             0.6,
             "#e6f5d0"
            ],
            [
             0.7,
             "#b8e186"
            ],
            [
             0.8,
             "#7fbc41"
            ],
            [
             0.9,
             "#4d9221"
            ],
            [
             1,
             "#276419"
            ]
           ],
           "sequential": [
            [
             0,
             "#0d0887"
            ],
            [
             0.1111111111111111,
             "#46039f"
            ],
            [
             0.2222222222222222,
             "#7201a8"
            ],
            [
             0.3333333333333333,
             "#9c179e"
            ],
            [
             0.4444444444444444,
             "#bd3786"
            ],
            [
             0.5555555555555556,
             "#d8576b"
            ],
            [
             0.6666666666666666,
             "#ed7953"
            ],
            [
             0.7777777777777778,
             "#fb9f3a"
            ],
            [
             0.8888888888888888,
             "#fdca26"
            ],
            [
             1,
             "#f0f921"
            ]
           ],
           "sequentialminus": [
            [
             0,
             "#0d0887"
            ],
            [
             0.1111111111111111,
             "#46039f"
            ],
            [
             0.2222222222222222,
             "#7201a8"
            ],
            [
             0.3333333333333333,
             "#9c179e"
            ],
            [
             0.4444444444444444,
             "#bd3786"
            ],
            [
             0.5555555555555556,
             "#d8576b"
            ],
            [
             0.6666666666666666,
             "#ed7953"
            ],
            [
             0.7777777777777778,
             "#fb9f3a"
            ],
            [
             0.8888888888888888,
             "#fdca26"
            ],
            [
             1,
             "#f0f921"
            ]
           ]
          },
          "colorway": [
           "#636efa",
           "#EF553B",
           "#00cc96",
           "#ab63fa",
           "#FFA15A",
           "#19d3f3",
           "#FF6692",
           "#B6E880",
           "#FF97FF",
           "#FECB52"
          ],
          "font": {
           "color": "#f2f5fa"
          },
          "geo": {
           "bgcolor": "rgb(17,17,17)",
           "lakecolor": "rgb(17,17,17)",
           "landcolor": "rgb(17,17,17)",
           "showlakes": true,
           "showland": true,
           "subunitcolor": "#506784"
          },
          "hoverlabel": {
           "align": "left"
          },
          "hovermode": "closest",
          "mapbox": {
           "style": "dark"
          },
          "paper_bgcolor": "rgb(17,17,17)",
          "plot_bgcolor": "rgb(17,17,17)",
          "polar": {
           "angularaxis": {
            "gridcolor": "#506784",
            "linecolor": "#506784",
            "ticks": ""
           },
           "bgcolor": "rgb(17,17,17)",
           "radialaxis": {
            "gridcolor": "#506784",
            "linecolor": "#506784",
            "ticks": ""
           }
          },
          "scene": {
           "xaxis": {
            "backgroundcolor": "rgb(17,17,17)",
            "gridcolor": "#506784",
            "gridwidth": 2,
            "linecolor": "#506784",
            "showbackground": true,
            "ticks": "",
            "zerolinecolor": "#C8D4E3"
           },
           "yaxis": {
            "backgroundcolor": "rgb(17,17,17)",
            "gridcolor": "#506784",
            "gridwidth": 2,
            "linecolor": "#506784",
            "showbackground": true,
            "ticks": "",
            "zerolinecolor": "#C8D4E3"
           },
           "zaxis": {
            "backgroundcolor": "rgb(17,17,17)",
            "gridcolor": "#506784",
            "gridwidth": 2,
            "linecolor": "#506784",
            "showbackground": true,
            "ticks": "",
            "zerolinecolor": "#C8D4E3"
           }
          },
          "shapedefaults": {
           "line": {
            "color": "#f2f5fa"
           }
          },
          "sliderdefaults": {
           "bgcolor": "#C8D4E3",
           "bordercolor": "rgb(17,17,17)",
           "borderwidth": 1,
           "tickwidth": 0
          },
          "ternary": {
           "aaxis": {
            "gridcolor": "#506784",
            "linecolor": "#506784",
            "ticks": ""
           },
           "baxis": {
            "gridcolor": "#506784",
            "linecolor": "#506784",
            "ticks": ""
           },
           "bgcolor": "rgb(17,17,17)",
           "caxis": {
            "gridcolor": "#506784",
            "linecolor": "#506784",
            "ticks": ""
           }
          },
          "title": {
           "x": 0.05
          },
          "updatemenudefaults": {
           "bgcolor": "#506784",
           "borderwidth": 0
          },
          "xaxis": {
           "automargin": true,
           "gridcolor": "#283442",
           "linecolor": "#506784",
           "ticks": "",
           "title": {
            "standoff": 15
           },
           "zerolinecolor": "#283442",
           "zerolinewidth": 2
          },
          "yaxis": {
           "automargin": true,
           "gridcolor": "#283442",
           "linecolor": "#506784",
           "ticks": "",
           "title": {
            "standoff": 15
           },
           "zerolinecolor": "#283442",
           "zerolinewidth": 2
          }
         }
        },
        "title": {
         "text": "Number of Products Within Each Flavour and Average Rating by Year",
         "x": 0.5
        },
        "width": 1000
       }
      }
     },
     "metadata": {},
     "output_type": "display_data"
    }
   ],
   "source": [
    "fig = px.sunburst(\n",
    "    data_frame= data.groupby(['productLaunchYear', 'flavour'])[['name', 'totalRating', 'rating']].agg({'name': 'count', 'totalRating': 'sum', 'rating': 'mean'}).rename(columns= {'name': 'No. Of Products', 'totalRating': 'No. Of Ratings', 'rating': 'Average Rating'}).reset_index(),\n",
    "    path= ['productLaunchYear', 'flavour'],\n",
    "    values= 'No. Of Products',\n",
    "    color= 'Average Rating',\n",
    "    color_continuous_scale= px.colors.sequential.Aggrnyl_r,\n",
    "    title= 'Number of Products Within Each Flavour and Average Rating by Year',\n",
    "    hover_data= ['No. Of Ratings', 'No. Of Products'],\n",
    "    labels= {'No. Of Products': 'Number of Products', 'No. Of Ratings': 'Number of Ratings'},\n",
    "    template= 'plotly_dark',\n",
    "    width= 1000,\n",
    "    height= 600,\n",
    ")\n",
    "\n",
    "fig.update_layout(\n",
    "    margin= dict(l= 0, r= 0, b= 0, t= 50),\n",
    "    title= dict(x= 0.5),\n",
    "    coloraxis_colorbar= dict(title= 'Average Rating'),\n",
    ")\n",
    "\n",
    "fig.update_traces(hovertemplate= #'<b>Year</b>: %{label}<br>' +\n",
    "                  '<b>No. Of Products:</b> %{customdata[1]:,}<br>' +\n",
    "                  '<b>No. Of Ratings:</b> %{customdata[0]:,}<br>' +\n",
    "                  '<b>Average Rating:</b> %{customdata[2]:.2f}')\n",
    "\n",
    "fig.show()"
   ]
  },
  {
   "cell_type": "code",
   "execution_count": null,
   "metadata": {},
   "outputs": [],
   "source": []
  }
 ],
 "metadata": {
  "kernelspec": {
   "display_name": "Python 3",
   "language": "python",
   "name": "python3"
  },
  "language_info": {
   "codemirror_mode": {
    "name": "ipython",
    "version": 3
   },
   "file_extension": ".py",
   "mimetype": "text/x-python",
   "name": "python",
   "nbconvert_exporter": "python",
   "pygments_lexer": "ipython3",
   "version": "3.10.4"
  }
 },
 "nbformat": 4,
 "nbformat_minor": 2
}
